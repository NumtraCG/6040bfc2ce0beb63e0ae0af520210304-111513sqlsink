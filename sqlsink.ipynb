{
 "cells": [
  {
   "cell_type": "markdown",
   "metadata": {},
   "source": [
    "***GENERATED CODE FOR sqlsink PIPELINE.***"
   ]
  },
  {
   "cell_type": "markdown",
   "metadata": {},
   "source": [
    "***DON'T EDIT THIS CODE.***"
   ]
  },
  {
   "cell_type": "markdown",
   "metadata": {},
   "source": [
    "***CONNECTOR FUNCTIONS TO READ DATA.***"
   ]
  },
  {
   "cell_type": "code",
   "execution_count": null,
   "metadata": {},
   "outputs": [],
   "source": [
    "import warnings\n",
    "warnings.filterwarnings('ignore')\n",
    "\n",
    "\n",
    "class RDBMSConnector:\n",
    "\n",
    "    def fetch(spark, config):\n",
    "        drivers = {\"mssql\": \"com.microsoft.sqlserver.jdbc.SQLServerDriver\"}\n",
    "        return spark.read.format(\"jdbc\") \\\n",
    "            .option(\"url\", f\"jdbc:sqlserver://{eval(config)['host']}:{eval(config)['port']};databaseName={eval(config)['database']}\") \\\n",
    "            .option(eval(config)['qtype'], eval(config)['query']) \\\n",
    "            .option(\"user\", eval(config)['user']) \\\n",
    "            .option(\"password\", eval(config)['password']) \\\n",
    "            .option(\"driver\",  \"com.microsoft.sqlserver.jdbc.SQLServerDriver\") \\\n",
    "            .load()\n",
    "\n",
    "    def put(df, spark, config):\n",
    "        drivers = {\"mssql\": \"com.microsoft.sqlserver.jdbc.SQLServerDriver\"}\n",
    "        # Write modes: overwrite, append\n",
    "        df.write.mode(eval(config)['writemode'])\\\n",
    "            .format('jdbc') \\\n",
    "            .option(\"url\", f\"jdbc:{eval(config)['dbtype']}://{eval(config)['host']}:{eval(config)['port']};databaseName={eval(config)['database']}\") \\\n",
    "            .option(\"dbtable\", eval(config)['table']) \\\n",
    "            .option(\"user\", eval(config)['user']) \\\n",
    "            .option(\"password\", eval(config)['password']) \\\n",
    "            .option(\"driver\",  \"com.microsoft.sqlserver.jdbc.SQLServerDriver\") \\\n",
    "            .save()\n"
   ]
  },
  {
   "cell_type": "markdown",
   "metadata": {},
   "source": [
    "***TRANSFORMATIONS FUNCTIONS THAT WILL BE APPLIED ON DATA***"
   ]
  },
  {
   "cell_type": "code",
   "execution_count": null,
   "metadata": {},
   "outputs": [],
   "source": [
    "import json\n",
    "from pyspark.sql.types import IntegerType\n",
    "from pyspark.ml.feature import StringIndexer\n",
    "from pyspark.sql.functions import col, when\n",
    "from pyspark.sql.types import IntegerType\n",
    "from pyspark.sql.functions import mean, stddev, min, max, col\n",
    "\n",
    "\n",
    "class CleanseData:\n",
    "    # def __init__(self,df):\n",
    "    #     #print()\n",
    "\n",
    "    def replaceByMean(self, feature, df, mean_=-1):\n",
    "\n",
    "        meanValue = df.select(mean(col(feature.name)).alias(\n",
    "            'mean')).collect()[0][\"mean\"]\n",
    "        df.fillna(meanValue, subset=[feature.name])\n",
    "        df.withColumn(feature.name, when(col(feature.name) == \" \",\n",
    "                                         meanValue).otherwise(col(feature.name).cast(\"Integer\")))\n",
    "        return df\n",
    "\n",
    "    def replaceByMax(self, feature, df, max_=-1):\n",
    "        maxValue = df.select(max(col(feature.name)).alias('max')).collect()[\n",
    "            0][\"max\"]\n",
    "        df.fillna(maxValue, subset=[feature.name])\n",
    "        df = df.withColumn(feature.name,\n",
    "                           when(col(feature.name) == \" \", maxValue).otherwise(col(feature.name)))\n",
    "        return df\n",
    "\n",
    "    def replaceByMin(self, feature, df, min_=-1):\n",
    "        minValue = df.select(min(col(feature.name)).alias('min')).collect()[\n",
    "            0][\"min\"]\n",
    "        df.fillna(minValue, subset=[feature.name])\n",
    "        df = df.withColumn(feature.name,\n",
    "                           when(col(feature.name) == \" \", minValue).otherwise(col(feature.name)))\n",
    "        return df\n",
    "\n",
    "    def replaceByStandardDeviation(self, feature, df, stddev_=-1):\n",
    "        stddevValue = df.select(stddev(col(feature.name)).alias(\n",
    "            'stddev')).collect()[0][\"stddev\"]\n",
    "        df.fillna(stddevValue, subset=[feature.name])\n",
    "        df = df.withColumn(feature.name,\n",
    "                           when(col(feature.name) == \" \", stddevValue).otherwise(col(feature.name)))\n",
    "        return df\n",
    "\n",
    "    def replaceDateRandomly(self, feature, df):\n",
    "        fillValue = df.where(col(feature.name).isNotNull()\n",
    "                             ).head(1)[0][feature.name]\n",
    "        df.fillna(str(fillValue), subset=[feature.name])\n",
    "        df = df.withColumn(feature.name,\n",
    "                           when(col(feature.name) == \" \", fillValue).otherwise(col(feature.name)))\n",
    "        # print(\"CleanseData:replaceDateRandomly Schema : \", df.#printSchema())\n",
    "        return df\n",
    "\n",
    "    def replaceNullValues(self, fList, df):\n",
    "        featuresList = df.schema.fields\n",
    "        for featureObj in fList:\n",
    "            for feat in featuresList:\n",
    "                if featureObj[\"feature\"] in feat.name:\n",
    "                    featureName = feat\n",
    "                    if \"mean\" in featureObj[\"replaceby\"]:\n",
    "                        df = self.replaceByMean(featureName, df)\n",
    "                    elif \"max\" in featureObj[\"replaceby\"]:\n",
    "                        df = self.replaceByMax(featureName, df)\n",
    "                    elif \"min\" in featureObj[\"replaceby\"]:\n",
    "                        df = self.replaceByMin(featureName, df)\n",
    "                    elif \"stddev\" in featureObj[\"replaceby\"]:\n",
    "                        df = self.replaceByStandardDeviation(featureName, df)\n",
    "                    elif \"random\" in featureObj[\"replaceby\"]:\n",
    "                        df = self.replaceDateRandomly(featureName, df)\n",
    "        return df\n",
    "\n",
    "\n",
    "def StringIndexerTransform(df, params, transformationData={}):\n",
    "    dfReturn = df\n",
    "    feature = params[\"feature\"]\n",
    "\n",
    "    dfReturn = dfReturn.fillna({feature: ''})\n",
    "    outcol = feature + \"_stringindexer\"\n",
    "    indexer = StringIndexer(\n",
    "        inputCol=feature, outputCol=outcol, handleInvalid=\"skip\")\n",
    "    indexed = indexer.fit(dfReturn).transform(dfReturn)\n",
    "    dfReturn = indexed\n",
    "    distinct_values_list = dfReturn.select(\n",
    "        outcol).distinct().rdd.map(lambda r: r[0]).collect()\n",
    "    len_distinct_values_list = len(distinct_values_list)\n",
    "    if len_distinct_values_list <= 4:\n",
    "        changed_type_df = dfReturn.withColumn(\n",
    "            outcol, dfReturn[outcol].cast(IntegerType()))\n",
    "        return changed_type_df\n",
    "    return dfReturn\n",
    "\n",
    "\n",
    "class TransformationMain:\n",
    "    # TODO: change df argument in run with following\n",
    "    def run(transformationDF, config):\n",
    "        configObj = json.loads(config)\n",
    "        featureData = configObj[\"FE\"]\n",
    "        transformationDF = CleanseData().replaceNullValues(featureData, transformationDF)\n",
    "        transformationDF = StringIndexerTransform(transformationDF, {'transformationsData': [{'feature_label': 'ZN', 'transformation_label': 'String Indexer'}], 'feature': 'ZN', 'type': 'string', 'selected': 'True', 'replaceby': 'max', 'stats': {\n",
    "                                                  'count': '25', 'mean': '8.3', 'stddev': '21.95', 'min': '0', 'max': '40', 'missing': '0'}, 'transformation': [{'transformation': 'String Indexer', 'selectedAsDefault': 1}], 'updatedLabel': 'ZN'}, {'feature_label': 'ZN', 'transformation_label': 'String Indexer'})\n",
    "        transformationDF = transformationDF.drop('ZN')\n",
    "        transformationDF = StringIndexerTransform(transformationDF, {'transformationsData': [{'feature_label': 'CHAS', 'transformation_label': 'String Indexer'}], 'feature': 'CHAS', 'type': 'string', 'selected': 'True', 'replaceby': 'max', 'stats': {\n",
    "            'count': '25', 'mean': '0.04', 'stddev': '0.2', 'min': '0', 'max': '1', 'missing': '0'}, 'transformation': [{'transformation': 'String Indexer', 'selectedAsDefault': 1}], 'updatedLabel': 'CHAS'}, {'feature_label': 'CHAS', 'transformation_label': 'String Indexer'})\n",
    "        transformationDF = transformationDF.drop('CHAS')\n",
    "        transformationDF = StringIndexerTransform(transformationDF, {'transformationsData': [{'feature_label': 'RAD', 'transformation_label': 'String Indexer'}], 'feature': 'RAD', 'type': 'string', 'selected': 'True', 'replaceby': 'max', 'stats': {\n",
    "            'count': '25', 'mean': '8.96', 'stddev': '7.85', 'min': '1', 'max': '8', 'missing': '0'}, 'transformation': [{'transformation': 'String Indexer', 'selectedAsDefault': 1}], 'updatedLabel': 'RAD'}, {'feature_label': 'RAD', 'transformation_label': 'String Indexer'})\n",
    "        transformationDF = transformationDF.drop('RAD')\n",
    "        display(transformationDF.limit(2).toPandas())\n",
    "        return transformationDF\n"
   ]
  },
  {
   "cell_type": "markdown",
   "metadata": {},
   "source": [
    "***CONNECTOR FUNCTIONS TO WRITE DATA.***"
   ]
  },
  {
   "cell_type": "code",
   "execution_count": null,
   "metadata": {},
   "outputs": [],
   "source": [
    "import warnings\n",
    "warnings.filterwarnings('ignore')\n",
    "\n",
    "\n",
    "class RDBMSConnector:\n",
    "\n",
    "    def fetch(spark, config):\n",
    "        drivers = {\"mssql\": \"com.microsoft.sqlserver.jdbc.SQLServerDriver\"}\n",
    "        return spark.read.format(\"jdbc\") \\\n",
    "            .option(\"url\", f\"jdbc:sqlserver://{eval(config)['host']}:{eval(config)['port']};databaseName={eval(config)['database']}\") \\\n",
    "            .option(eval(config)['qtype'], eval(config)['query']) \\\n",
    "            .option(\"user\", eval(config)['user']) \\\n",
    "            .option(\"password\", eval(config)['password']) \\\n",
    "            .option(\"driver\",  \"com.microsoft.sqlserver.jdbc.SQLServerDriver\") \\\n",
    "            .load()\n",
    "\n",
    "    def put(df, spark, config):\n",
    "        drivers = {\"mssql\": \"com.microsoft.sqlserver.jdbc.SQLServerDriver\"}\n",
    "        # Write modes: overwrite, append\n",
    "        df.write.mode(eval(config)['writemode'])\\\n",
    "            .format('jdbc') \\\n",
    "            .option(\"url\", f\"jdbc:{eval(config)['dbtype']}://{eval(config)['host']}:{eval(config)['port']};databaseName={eval(config)['database']}\") \\\n",
    "            .option(\"dbtable\", eval(config)['table']) \\\n",
    "            .option(\"user\", eval(config)['user']) \\\n",
    "            .option(\"password\", eval(config)['password']) \\\n",
    "            .option(\"driver\",  \"com.microsoft.sqlserver.jdbc.SQLServerDriver\") \\\n",
    "            .save()\n"
   ]
  },
  {
   "cell_type": "markdown",
   "metadata": {},
   "source": [
    "***READING DATAFRAME***"
   ]
  },
  {
   "cell_type": "code",
   "execution_count": null,
   "metadata": {},
   "outputs": [],
   "source": [
    "#%run sqlsinkHooks.ipynb\n",
    "try:\n",
    "\t#sourcePreExecutionHook()\n",
    "\n",
    "\tsqlserver = RDBMSConnector.fetch(spark, \"{'host': '216.168.41.46', 'port': '19872', 'password': 'num_sql@1433', 'database': 'testdb', 'user': 'SA', 'qtype': 'dbtable', 'query': 'BostonTrain', 'dbtype': 'mssql', 'is_header': 'Use Header Line'}\")\n",
    "\t#sourcePostExecutionHook(sqlserver)\n",
    "\n",
    "except Exception as ex: \n",
    "\tlogging.error(ex)\n"
   ]
  },
  {
   "cell_type": "markdown",
   "metadata": {},
   "source": [
    "***TRANSFORMING DATAFRAME***"
   ]
  },
  {
   "cell_type": "code",
   "execution_count": null,
   "metadata": {},
   "outputs": [],
   "source": [
    "#%run sqlsinkHooks.ipynb\n",
    "try:\n",
    "\t#transformationPreExecutionHook()\n",
    "\n",
    "\tautofe = TransformationMain.run(sqlserver,json.dumps( {\"FE\": [{\"transformationsData\": [{\"transformation_label\": \"novalue\"}], \"feature\": \"CRIM\", \"type\": \"real\", \"selected\": \"True\", \"replaceby\": \"mean\", \"stats\": {\"count\": \"25\", \"mean\": \"2.33\", \"stddev\": \"5.05\", \"min\": \"0.01432\", \"max\": \"22.5971\", \"missing\": \"0\"}, \"transformation\": [{\"transformation\": \"novalue\", \"selectedAsDefault\": 1}], \"updatedLabel\": \"CRIM\"}, {\"transformationsData\": [{\"feature_label\": \"ZN\", \"transformation_label\": \"String Indexer\"}], \"feature\": \"ZN\", \"type\": \"string\", \"selected\": \"True\", \"replaceby\": \"max\", \"stats\": {\"count\": \"25\", \"mean\": \"8.3\", \"stddev\": \"21.95\", \"min\": \"0\", \"max\": \"40\", \"missing\": \"0\"}, \"transformation\": [{\"transformation\": \"String Indexer\", \"selectedAsDefault\": 1}], \"updatedLabel\": \"ZN\"}, {\"transformationsData\": [{\"transformation_label\": \"novalue\"}], \"feature\": \"INDUS\", \"type\": \"real\", \"selected\": \"True\", \"replaceby\": \"mean\", \"stats\": {\"count\": \"25\", \"mean\": \"9.55\", \"stddev\": \"5.79\", \"min\": \"1.32\", \"max\": \"19.58\", \"missing\": \"0\"}, \"transformation\": [{\"transformation\": \"novalue\", \"selectedAsDefault\": 1}], \"updatedLabel\": \"INDUS\"}, {\"transformationsData\": [{\"feature_label\": \"CHAS\", \"transformation_label\": \"String Indexer\"}], \"feature\": \"CHAS\", \"type\": \"string\", \"selected\": \"True\", \"replaceby\": \"max\", \"stats\": {\"count\": \"25\", \"mean\": \"0.04\", \"stddev\": \"0.2\", \"min\": \"0\", \"max\": \"1\", \"missing\": \"0\"}, \"transformation\": [{\"transformation\": \"String Indexer\", \"selectedAsDefault\": 1}], \"updatedLabel\": \"CHAS\"}, {\"transformationsData\": [{\"transformation_label\": \"novalue\"}], \"feature\": \"NOX\", \"type\": \"real\", \"selected\": \"True\", \"replaceby\": \"mean\", \"stats\": {\"count\": \"25\", \"mean\": \"0.54\", \"stddev\": \"0.1\", \"min\": \"0.411\", \"max\": \"0.74\", \"missing\": \"0\"}, \"transformation\": [{\"transformation\": \"novalue\", \"selectedAsDefault\": 1}], \"updatedLabel\": \"NOX\"}, {\"transformationsData\": [{\"transformation_label\": \"novalue\"}], \"feature\": \"RM\", \"type\": \"real\", \"selected\": \"True\", \"replaceby\": \"mean\", \"stats\": {\"count\": \"25\", \"mean\": \"6.48\", \"stddev\": \"0.77\", \"min\": \"5.0\", \"max\": \"8.725\", \"missing\": \"0\"}, \"transformation\": [{\"transformation\": \"novalue\", \"selectedAsDefault\": 1}], \"updatedLabel\": \"RM\"}, {\"transformationsData\": [{\"transformation_label\": \"novalue\"}], \"feature\": \"AGE\", \"type\": \"real\", \"selected\": \"True\", \"replaceby\": \"mean\", \"stats\": {\"count\": \"25\", \"mean\": \"72.41\", \"stddev\": \"24.8\", \"min\": \"17.2\", \"max\": \"98.9\", \"missing\": \"0\"}, \"transformation\": [{\"transformation\": \"novalue\", \"selectedAsDefault\": 1}], \"updatedLabel\": \"AGE\"}, {\"transformationsData\": [{\"transformation_label\": \"novalue\"}], \"feature\": \"DIS\", \"type\": \"real\", \"selected\": \"True\", \"replaceby\": \"mean\", \"stats\": {\"count\": \"25\", \"mean\": \"3.76\", \"stddev\": \"2.09\", \"min\": \"1.5184\", \"max\": \"8.3248\", \"missing\": \"0\"}, \"transformation\": [{\"transformation\": \"novalue\", \"selectedAsDefault\": 1}], \"updatedLabel\": \"DIS\"}, {\"transformationsData\": [{\"feature_label\": \"RAD\", \"transformation_label\": \"String Indexer\"}], \"feature\": \"RAD\", \"type\": \"string\", \"selected\": \"True\", \"replaceby\": \"max\", \"stats\": {\"count\": \"25\", \"mean\": \"8.96\", \"stddev\": \"7.85\", \"min\": \"1\", \"max\": \"8\", \"missing\": \"0\"}, \"transformation\": [{\"transformation\": \"String Indexer\", \"selectedAsDefault\": 1}], \"updatedLabel\": \"RAD\"}, {\"transformationsData\": [{\"transformation_label\": \"novalue\"}], \"feature\": \"TAX\", \"transformation\": [{\"transformation\": \"novalue\", \"selectedAsDefault\": 1}], \"type\": \"numeric\", \"replaceby\": \"mean\", \"selected\": \"True\", \"stats\": {\"count\": \"25\", \"mean\": \"399.52\", \"stddev\": \"149.09\", \"min\": \"193\", \"max\": \"666\", \"missing\": \"0\"}, \"updatedLabel\": \"TAX\"}, {\"transformationsData\": [{\"transformation_label\": \"novalue\"}], \"feature\": \"PTRATIO\", \"type\": \"real\", \"selected\": \"True\", \"replaceby\": \"mean\", \"stats\": {\"count\": \"25\", \"mean\": \"18.38\", \"stddev\": \"1.99\", \"min\": \"14.7\", \"max\": \"21.0\", \"missing\": \"0\"}, \"transformation\": [{\"transformation\": \"novalue\", \"selectedAsDefault\": 1}], \"updatedLabel\": \"PTRATIO\"}, {\"transformationsData\": [{\"transformation_label\": \"novalue\"}], \"feature\": \"B\", \"type\": \"real\", \"selected\": \"True\", \"replaceby\": \"mean\", \"stats\": {\"count\": \"25\", \"mean\": \"340.71\", \"stddev\": \"114.3\", \"min\": \"0.32\", \"max\": \"396.9\", \"missing\": \"0\"}, \"transformation\": [{\"transformation\": \"novalue\", \"selectedAsDefault\": 1}], \"updatedLabel\": \"B\"}, {\"transformationsData\": [{\"transformation_label\": \"novalue\"}], \"feature\": \"LSTAT\", \"type\": \"real\", \"selected\": \"True\", \"replaceby\": \"mean\", \"stats\": {\"count\": \"25\", \"mean\": \"11.52\", \"stddev\": \"6.86\", \"min\": \"2.98\", \"max\": \"31.99\", \"missing\": \"0\"}, \"transformation\": [{\"transformation\": \"novalue\", \"selectedAsDefault\": 1}], \"updatedLabel\": \"LSTAT\"}, {\"transformationsData\": [{\"transformation_label\": \"novalue\"}], \"feature\": \"MEDV\", \"type\": \"real\", \"selected\": \"True\", \"replaceby\": \"mean\", \"stats\": {\"count\": \"25\", \"mean\": \"22.64\", \"stddev\": \"10.65\", \"min\": \"7.4\", \"max\": \"50.0\", \"missing\": \"0\"}, \"transformation\": [{\"transformation\": \"novalue\", \"selectedAsDefault\": 1}], \"updatedLabel\": \"MEDV\"}, {\"feature\": \"ZN_stringindexer_transform\", \"transformation\": [{\"transformation\": \"novalue\", \"selectedAsDefault\": 0}], \"transformationsData\": [{\"transformation_label\": \"novalue\"}], \"type\": \"real\", \"selected\": \"True\", \"stats\": {\"count\": \"25\", \"mean\": \"0.6\", \"stddev\": \"1.38\", \"min\": \"0.0\", \"max\": \"5.0\", \"missing\": \"0\"}, \"updatedLabel\": \"ZN_stringindexer_transfor...\"}, {\"feature\": \"CHAS_stringindexer_transform\", \"transformation\": [{\"transformation\": \"novalue\", \"selectedAsDefault\": 0}], \"transformationsData\": [{\"transformation_label\": \"novalue\"}], \"type\": \"numeric\", \"selected\": \"True\", \"stats\": {\"count\": \"25\", \"mean\": \"0.04\", \"stddev\": \"0.2\", \"min\": \"0\", \"max\": \"1\", \"missing\": \"0\"}, \"updatedLabel\": \"CHAS_stringindexer_transf...\"}, {\"feature\": \"RAD_stringindexer_transform\", \"transformation\": [{\"transformation\": \"novalue\", \"selectedAsDefault\": 0}], \"transformationsData\": [{\"transformation_label\": \"novalue\"}], \"type\": \"real\", \"selected\": \"True\", \"stats\": {\"count\": \"25\", \"mean\": \"2.0\", \"stddev\": \"1.85\", \"min\": \"0.0\", \"max\": \"6.0\", \"missing\": \"0\"}, \"updatedLabel\": \"RAD_stringindexer_transfo...\"}]}))\n",
    "\n",
    "\t#transformationPostExecutionHook(autofe)\n",
    "\n",
    "except Exception as ex: \n",
    "\tlogging.error(ex)\n"
   ]
  },
  {
   "cell_type": "markdown",
   "metadata": {},
   "source": [
    "***WRITING DATAFRAME***"
   ]
  },
  {
   "cell_type": "code",
   "execution_count": null,
   "metadata": {},
   "outputs": [],
   "source": [
    "#%run sqlsinkHooks.ipynb\n",
    "try:\n",
    "\t#sinkPreExecutionHook()\n",
    "\n",
    "\tsqlserver = RDBMSConnector.put(spark, \"{'host': '216.168.41.46', 'port': '19872', 'password': 'num_sql@1433', 'database': 'testdb', 'user': 'SA', 'optionalDB': '', 'table_option': 'create_new_table', 'table': 'boastpredict2233', 'new_table_name': 'boastpredict2233', 'writemode': '', 'is_header': 'Use Header Line'}\")\n",
    "\t#sinkPostExecutionHook(sqlserver)\n",
    "\n",
    "except Exception as ex: \n",
    "\tlogging.error(ex)\n"
   ]
  }
 ],
 "metadata": {},
 "nbformat": 4,
 "nbformat_minor": 2
}
